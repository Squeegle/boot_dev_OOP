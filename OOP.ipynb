{
 "cells": [
  {
   "cell_type": "markdown",
   "id": "0d02a462",
   "metadata": {},
   "source": [
    "# CH1: Clean Code"
   ]
  },
  {
   "cell_type": "markdown",
   "id": "837dcdf4",
   "metadata": {},
   "source": [
    "One of the greatest sins when trying to write \"clean code\" is using misleading variable and function names. Take a look at the destroy_wall function. It takes a list of numbers as input (each representing the health of a wall) and returns a new list with each entry of 0 or less removed.\n",
    "\n",
    "Based on its name, you might assume that destroy_wall destroys a single wall, but if you look closely, you'll see that it handles multiple walls.\n",
    "\n",
    "    The test suite expects a different function name. Take a look at the main_test.py file to see what it's looking for, and rename the function accordingly.\n",
    "    Bonus: rename the variables inside the function to be more descriptive.\n"
   ]
  },
  {
   "cell_type": "code",
   "execution_count": null,
   "id": "8f6301ba",
   "metadata": {},
   "outputs": [
    {
     "ename": "",
     "evalue": "",
     "output_type": "error",
     "traceback": [
      "\u001b[1;31mThe kernel failed to start as the Python Environment 'Python 3.12.3' is no longer available. Consider selecting another kernel or refreshing the list of Python Environments."
     ]
    }
   ],
   "source": [
    "def destroy_walls(wall_health):\n",
    "    h = []\n",
    "    for w in wall_health:\n",
    "        if w > 0:\n",
    "            h.append(w)\n",
    "    return h"
   ]
  },
  {
   "cell_type": "code",
   "execution_count": null,
   "id": "e155d75d",
   "metadata": {},
   "outputs": [],
   "source": [
    "run_cases = [\n",
    "    ([0, 20, 30], [20, 30]),\n",
    "    ([10, 0, 40, 0], [10, 40]),\n",
    "]\n",
    "\n",
    "submit_cases = run_cases + [\n",
    "    ([], []),\n",
    "    ([3, 2, 0, 3, 0, 0], [3, 2, 3]),\n",
    "]\n",
    "\n",
    "\n",
    "def test(input1, expected_output):\n",
    "    print(\"---------------------------------\")\n",
    "    print(f\"Input:     {input1}\")\n",
    "    print(f\"Expected: {expected_output}\")\n",
    "    try:\n",
    "        result = destroy_walls(input1)\n",
    "        print(f\"Actual:   {result}\")\n",
    "        if str(result) != str(expected_output):\n",
    "            return False\n",
    "        return True\n",
    "    except Exception as e:\n",
    "        print(f\"Error: {e}\")\n",
    "        return False\n",
    "\n",
    "\n",
    "def main():\n",
    "    passed = 0\n",
    "    failed = 0\n",
    "    skipped = len(submit_cases) - len(test_cases)\n",
    "    for test_case in test_cases:\n",
    "        correct = test(*test_case)\n",
    "        if correct:\n",
    "            passed += 1\n",
    "            print(\"Pass\")\n",
    "        else:\n",
    "            failed += 1\n",
    "            print(\"Fail\")\n",
    "    if failed == 0:\n",
    "        print(\"============= PASS ==============\")\n",
    "    else:\n",
    "        print(\"============= FAIL ==============\")\n",
    "    if skipped > 0:\n",
    "        print(f\"{passed} passed, {failed} failed, {skipped} skipped\")\n",
    "    else:\n",
    "        print(f\"{passed} passed, {failed} failed\")\n",
    "\n",
    "\n",
    "test_cases = submit_cases\n",
    "if \"__RUN__\" in globals():\n",
    "    test_cases = run_cases\n",
    "\n",
    "main()"
   ]
  }
 ],
 "metadata": {
  "kernelspec": {
   "display_name": "Python 3",
   "language": "python",
   "name": "python3"
  },
  "language_info": {
   "name": "python",
   "version": "3.12.3"
  }
 },
 "nbformat": 4,
 "nbformat_minor": 5
}
