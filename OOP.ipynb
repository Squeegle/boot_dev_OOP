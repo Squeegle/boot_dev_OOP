{
 "cells": [
  {
   "cell_type": "markdown",
   "id": "0d02a462",
   "metadata": {},
   "source": [
    "# CH1: Clean Code"
   ]
  },
  {
   "cell_type": "markdown",
   "id": "837dcdf4",
   "metadata": {},
   "source": [
    "One of the greatest sins when trying to write \"clean code\" is using misleading variable and function names. Take a look at the destroy_wall function. It takes a list of numbers as input (each representing the health of a wall) and returns a new list with each entry of 0 or less removed.\n",
    "\n",
    "Based on its name, you might assume that destroy_wall destroys a single wall, but if you look closely, you'll see that it handles multiple walls.\n",
    "\n",
    "    The test suite expects a different function name. Take a look at the main_test.py file to see what it's looking for, and rename the function accordingly.\n",
    "    Bonus: rename the variables inside the function to be more descriptive.\n"
   ]
  },
  {
   "cell_type": "code",
   "execution_count": null,
   "id": "8f6301ba",
   "metadata": {},
   "outputs": [],
   "source": []
  }
 ],
 "metadata": {
  "kernelspec": {
   "display_name": ".venv",
   "language": "python",
   "name": "python3"
  },
  "language_info": {
   "name": "python",
   "version": "3.12.3"
  }
 },
 "nbformat": 4,
 "nbformat_minor": 5
}
